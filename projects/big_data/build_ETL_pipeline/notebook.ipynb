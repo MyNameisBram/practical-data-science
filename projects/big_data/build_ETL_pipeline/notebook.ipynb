# use this as aguide to prompt ChatGPT 
# https://www.projectpro.io/project-use-case/etl-pipeline-with-snowflake-dbt-airflow-example?utm_source=519&utm_medium=fold2
